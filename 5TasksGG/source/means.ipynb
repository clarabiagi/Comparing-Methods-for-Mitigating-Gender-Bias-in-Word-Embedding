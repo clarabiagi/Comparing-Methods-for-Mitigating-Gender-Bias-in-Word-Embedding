{
 "cells": [
  {
   "cell_type": "code",
   "execution_count": 1,
   "metadata": {},
   "outputs": [],
   "source": [
    "import pandas as pd\n",
    "import seaborn as sns\n",
    "import matplotlib.pyplot as plt"
   ]
  },
  {
   "cell_type": "code",
   "execution_count": 2,
   "metadata": {},
   "outputs": [],
   "source": [
    "data = pd.read_csv('means.csv', sep=';')"
   ]
  },
  {
   "cell_type": "code",
   "execution_count": 25,
   "metadata": {},
   "outputs": [],
   "source": [
    "data.iloc[3,0] = 'HSR-RAN-GloVe'\n",
    "data.iloc[7,0] = 'GP-GN-GloVe'"
   ]
  },
  {
   "cell_type": "code",
   "execution_count": 26,
   "metadata": {},
   "outputs": [],
   "source": [
    "data = data.sort_values(by=['MEAN'])"
   ]
  },
  {
   "cell_type": "code",
   "execution_count": 27,
   "metadata": {
    "scrolled": false
   },
   "outputs": [
    {
     "data": {
      "image/png": "[encoded data removed]",
      "text/plain": [
       "<Figure size 432x288 with 1 Axes>"
      ]
     },
     "metadata": {
      "needs_background": "light"
     },
     "output_type": "display_data"
    }
   ],
   "source": [
    "ax = sns.scatterplot(x=\"MEAN\", y=\"METHODS\", data=data)\n",
    "plt.axvline(x=0.0375,linestyle =\"--\", linewidth=0.6, color = 'gray')\n",
    "plt.errorbar(data['MEAN'], data['METHODS'], xerr = data['SE'], fmt = 'none', capsize=5, alpha=0.5)\n",
    "plt.xlabel(\"Average direct bias\")\n",
    "plt.ylabel(\"Methods\")\n",
    "plt.savefig('means.png', bbox_inches='tight')\n",
    "plt.show()"
   ]
  },
  {
   "cell_type": "code",
   "execution_count": 20,
   "metadata": {},
   "outputs": [],
   "source": [
    "orig = pd.read_csv('../RAN-Debias-master/Gender-Biased Word Relation Task/source/bias_bef.csv')\n",
    "RAN = pd.read_csv('../RAN-Debias-master/Gender-Biased Word Relation Task/source/bias_RAN.csv')\n",
    "GP = pd.read_csv('../gp_debias-master/Gender-Biased Word Relation Task/source/bias_GP.csv')\n",
    "GNGP = pd.read_csv('../gp_debias-master/Gender-Biased Word Relation Task/source/bias_GNGP.csv')\n",
    "GN = pd.read_csv('../gn_glove-master/Gender-Biased Word Relation Task/source/bias_GN.csv')\n",
    "HSR = pd.read_csv('../GenderBiasHSR-master/Gender-Biased Word Relation Task/source/bias_HSR.csv')\n",
    "HSRAN = pd.read_csv('../GenderBiasHSR-master/Gender-Biased Word Relation Task/bias_HSR-RAN.csv')\n",
    "DHD = pd.read_csv('../Double-Hard-Debias-master/Gender-Biased Word Relation Task/source/bias_DHD.csv')\n",
    "HD = pd.read_csv('../debiaswe-master/Gender-Biased Word Relation Task/bias_HD.csv')\n"
   ]
  },
  {
   "cell_type": "code",
   "execution_count": 76,
   "metadata": {},
   "outputs": [],
   "source": [
    "import numpy as np"
   ]
  },
  {
   "cell_type": "code",
   "execution_count": 87,
   "metadata": {},
   "outputs": [
    {
     "data": {
      "text/plain": [
       "0.021763303960462728"
      ]
     },
     "execution_count": 87,
     "metadata": {},
     "output_type": "execute_result"
    }
   ],
   "source": [
    "np.mean(np.abs(HSR.iloc[:,1]))"
   ]
  },
  {
   "cell_type": "code",
   "execution_count": 37,
   "metadata": {},
   "outputs": [],
   "source": [
    "import scipy.stats as stats"
   ]
  },
  {
   "cell_type": "code",
   "execution_count": 57,
   "metadata": {},
   "outputs": [
    {
     "data": {
      "text/plain": [
       "Ttest_indResult(statistic=-38.15228734247828, pvalue=0.0)"
      ]
     },
     "execution_count": 57,
     "metadata": {},
     "output_type": "execute_result"
    }
   ],
   "source": [
    "stats.ttest_ind(GNGP.iloc[:,1], GP.iloc[:,1])"
   ]
  },
  {
   "cell_type": "code",
   "execution_count": 73,
   "metadata": {},
   "outputs": [
    {
     "name": "stdout",
     "output_type": "stream",
     "text": [
      "orig\n",
      "Ttest_relResult(statistic=nan, pvalue=nan)\n",
      "Ttest_relResult(statistic=-6.2120516575081925, pvalue=5.272788656374161e-10)\n",
      "Ttest_relResult(statistic=16.19343552553697, pvalue=8.05671380566474e-59)\n",
      "Ttest_relResult(statistic=-23.241930416670815, pvalue=7.877439953796465e-119)\n",
      "Ttest_relResult(statistic=93.24099000151342, pvalue=0.0)\n",
      "Ttest_relResult(statistic=1.9472065214198189, pvalue=0.05151584084731672)\n",
      "Ttest_relResult(statistic=2.0397561616343585, pvalue=0.04138011617357304)\n",
      "Ttest_relResult(statistic=-2.534000908188849, pvalue=0.01128001610046688)\n",
      "Ttest_relResult(statistic=-23.714336465532988, pvalue=1.336478403823208e-123)\n",
      "RAN\n",
      "Ttest_relResult(statistic=6.2120516575081925, pvalue=5.272788656374161e-10)\n",
      "Ttest_relResult(statistic=nan, pvalue=nan)\n",
      "Ttest_relResult(statistic=21.323260189597338, pvalue=2.0370580197400008e-100)\n",
      "Ttest_relResult(statistic=-22.17112356117402, pvalue=2.3075691998974487e-108)\n",
      "Ttest_relResult(statistic=103.85794851436633, pvalue=0.0)\n",
      "Ttest_relResult(statistic=6.4891916232646425, pvalue=8.714154053416648e-11)\n",
      "Ttest_relResult(statistic=6.089081411768117, pvalue=1.1442509251447812e-09)\n",
      "Ttest_relResult(statistic=1.3566292304305638, pvalue=0.17490546994962652)\n",
      "Ttest_relResult(statistic=-24.28332970632414, pvalue=1.803936181403366e-129)\n",
      "GP\n",
      "Ttest_relResult(statistic=-16.19343552553697, pvalue=8.05671380566474e-59)\n",
      "Ttest_relResult(statistic=-21.323260189597338, pvalue=2.0370580197400008e-100)\n",
      "Ttest_relResult(statistic=nan, pvalue=nan)\n",
      "Ttest_relResult(statistic=-38.286193446837316, pvalue=0.0)\n",
      "Ttest_relResult(statistic=81.0308769003143, pvalue=0.0)\n",
      "Ttest_relResult(statistic=-18.23857011931077, pvalue=4.5586616109388524e-74)\n",
      "Ttest_relResult(statistic=-16.394742444571236, pvalue=3.049387678696325e-60)\n",
      "Ttest_relResult(statistic=-23.522306093218482, pvalue=1.1922952881537958e-121)\n",
      "Ttest_relResult(statistic=-48.749157428415984, pvalue=0.0)\n",
      "GNGP\n",
      "Ttest_relResult(statistic=23.241930416670815, pvalue=7.877439953796465e-119)\n",
      "Ttest_relResult(statistic=22.17112356117402, pvalue=2.3075691998974487e-108)\n",
      "Ttest_relResult(statistic=38.286193446837316, pvalue=0.0)\n",
      "Ttest_relResult(statistic=nan, pvalue=nan)\n",
      "Ttest_relResult(statistic=106.87885633898246, pvalue=0.0)\n",
      "Ttest_relResult(statistic=28.823686222521857, pvalue=3.904965988168561e-181)\n",
      "Ttest_relResult(statistic=27.354554269996072, pvalue=1.7536705898834018e-163)\n",
      "Ttest_relResult(statistic=25.44114451359186, pvalue=7.848725654958097e-142)\n",
      "Ttest_relResult(statistic=10.30597117742288, pvalue=7.032467952153539e-25)\n",
      "GN\n",
      "Ttest_relResult(statistic=-93.24099000151342, pvalue=0.0)\n",
      "Ttest_relResult(statistic=-103.85794851436633, pvalue=0.0)\n",
      "Ttest_relResult(statistic=-81.0308769003143, pvalue=0.0)\n",
      "Ttest_relResult(statistic=-106.87885633898246, pvalue=0.0)\n",
      "Ttest_relResult(statistic=nan, pvalue=nan)\n",
      "Ttest_relResult(statistic=-108.93738152589525, pvalue=0.0)\n",
      "Ttest_relResult(statistic=-101.55777484997039, pvalue=0.0)\n",
      "Ttest_relResult(statistic=-115.03464264865808, pvalue=0.0)\n",
      "Ttest_relResult(statistic=-142.7041427617738, pvalue=0.0)\n",
      "HSR\n",
      "Ttest_relResult(statistic=-1.9472065214198189, pvalue=0.05151584084731672)\n",
      "Ttest_relResult(statistic=-6.4891916232646425, pvalue=8.714154053416648e-11)\n",
      "Ttest_relResult(statistic=18.23857011931077, pvalue=4.5586616109388524e-74)\n",
      "Ttest_relResult(statistic=-28.823686222521857, pvalue=3.904965988168561e-181)\n",
      "Ttest_relResult(statistic=108.93738152589525, pvalue=0.0)\n",
      "Ttest_relResult(statistic=nan, pvalue=nan)\n",
      "Ttest_relResult(statistic=0.3328202447580151, pvalue=0.7392714382536526)\n",
      "Ttest_relResult(statistic=-6.69116913223366, pvalue=2.238354530783504e-11)\n",
      "Ttest_relResult(statistic=-45.54892575142406, pvalue=0.0)\n",
      "HSRAN\n",
      "Ttest_relResult(statistic=-2.0397561616343585, pvalue=0.04138011617357304)\n",
      "Ttest_relResult(statistic=-6.089081411768117, pvalue=1.1442509251447812e-09)\n",
      "Ttest_relResult(statistic=16.394742444571236, pvalue=3.049387678696325e-60)\n",
      "Ttest_relResult(statistic=-27.354554269996072, pvalue=1.7536705898834018e-163)\n",
      "Ttest_relResult(statistic=101.55777484997039, pvalue=0.0)\n",
      "Ttest_relResult(statistic=-0.3328202447580151, pvalue=0.7392714382536526)\n",
      "Ttest_relResult(statistic=nan, pvalue=nan)\n",
      "Ttest_relResult(statistic=-5.96620067188753, pvalue=2.445490521100019e-09)\n",
      "Ttest_relResult(statistic=-34.96696245424013, pvalue=1.6067841245273157e-264)\n",
      "DHD\n",
      "Ttest_relResult(statistic=2.534000908188849, pvalue=0.01128001610046688)\n",
      "Ttest_relResult(statistic=-1.3566292304305638, pvalue=0.17490546994962652)\n",
      "Ttest_relResult(statistic=23.522306093218482, pvalue=1.1922952881537958e-121)\n",
      "Ttest_relResult(statistic=-25.44114451359186, pvalue=7.848725654958097e-142)\n",
      "Ttest_relResult(statistic=115.03464264865808, pvalue=0.0)\n",
      "Ttest_relResult(statistic=6.69116913223366, pvalue=2.238354530783504e-11)\n",
      "Ttest_relResult(statistic=5.96620067188753, pvalue=2.445490521100019e-09)\n",
      "Ttest_relResult(statistic=nan, pvalue=nan)\n",
      "Ttest_relResult(statistic=-40.445246105562454, pvalue=0.0)\n",
      "HD\n",
      "Ttest_relResult(statistic=23.714336465532988, pvalue=1.336478403823208e-123)\n",
      "Ttest_relResult(statistic=24.28332970632414, pvalue=1.803936181403366e-129)\n",
      "Ttest_relResult(statistic=48.749157428415984, pvalue=0.0)\n",
      "Ttest_relResult(statistic=-10.30597117742288, pvalue=7.032467952153539e-25)\n",
      "Ttest_relResult(statistic=142.7041427617738, pvalue=0.0)\n",
      "Ttest_relResult(statistic=45.54892575142406, pvalue=0.0)\n",
      "Ttest_relResult(statistic=34.96696245424013, pvalue=1.6067841245273157e-264)\n",
      "Ttest_relResult(statistic=40.445246105562454, pvalue=0.0)\n",
      "Ttest_relResult(statistic=nan, pvalue=nan)\n"
     ]
    }
   ],
   "source": [
    "print('orig')\n",
    "for methods in [orig, RAN, GP, GNGP, GN, HSR, HSRAN, DHD, HD]:\n",
    "    print(stats.ttest_rel(methods.iloc[:,1], orig.iloc[:,1]))\n",
    "print('RAN')\n",
    "for methods in [orig, RAN, GP, GNGP, GN, HSR, HSRAN, DHD, HD]:\n",
    "    print(stats.ttest_rel(methods.iloc[:,1], RAN.iloc[:,1]))\n",
    "print('GP')\n",
    "for methods in [orig, RAN, GP, GNGP, GN, HSR, HSRAN, DHD, HD]:\n",
    "    print(stats.ttest_rel(methods.iloc[:,1], GP.iloc[:,1]))\n",
    "print('GNGP')\n",
    "for methods in [orig, RAN, GP, GNGP, GN, HSR, HSRAN, DHD, HD]:\n",
    "    print(stats.ttest_rel(methods.iloc[:,1], GNGP.iloc[:,1]))\n",
    "print('GN')\n",
    "for methods in [orig, RAN, GP, GNGP, GN, HSR, HSRAN, DHD, HD]:\n",
    "    print(stats.ttest_rel(methods.iloc[:,1], GN.iloc[:,1]))\n",
    "print('HSR')\n",
    "for methods in [orig, RAN, GP, GNGP, GN, HSR, HSRAN, DHD, HD]:\n",
    "    print(stats.ttest_rel(methods.iloc[:,1], HSR.iloc[:,1]))\n",
    "print('HSRAN')\n",
    "for methods in [orig, RAN, GP, GNGP, GN, HSR, HSRAN, DHD, HD]:\n",
    "    print(stats.ttest_rel(methods.iloc[:,1], HSRAN.iloc[:,1]))\n",
    "print('DHD')\n",
    "for methods in [orig, RAN, GP, GNGP, GN, HSR, HSRAN, DHD, HD]:\n",
    "    print(stats.ttest_rel(methods.iloc[:,1], DHD.iloc[:,1]))\n",
    "print('HD')\n",
    "for methods in [orig, RAN, GP, GNGP, GN, HSR, HSRAN, DHD, HD]:\n",
    "    print(stats.ttest_rel(methods.iloc[:,1], HD.iloc[:,1]))"
   ]
  },
  {
   "cell_type": "markdown",
   "metadata": {},
   "source": [
    "HSR average bias is not statistically different from the original glove at 0.05\n",
    "\n",
    "DHD, HSRAN at 0.01"
   ]
  },
  {
   "cell_type": "markdown",
   "metadata": {},
   "source": [
    "DHD is not different at 0.05 from RAN glove"
   ]
  },
  {
   "cell_type": "markdown",
   "metadata": {},
   "source": [
    "HSR and HSRAN are not different at 0.01"
   ]
  },
  {
   "cell_type": "code",
   "execution_count": 94,
   "metadata": {},
   "outputs": [],
   "source": [
    "#compute mean and sd\n",
    "def summary_direct(bias):\n",
    "    print('avg: ', np.mean(bias), 'sd: ', np.std(bias))\n",
    "    \n",
    "#select male and female biases\n",
    "def gen_bias(gender_bias):\n",
    "    male = []\n",
    "    female = []\n",
    "    for word in gender_bias.iloc[:,1]:\n",
    "        if word>0:\n",
    "            male.append(word)\n",
    "        else:\n",
    "            female.append(word)\n",
    "    return male, female     \n",
    "male_bef, female_bef = gen_bias(orig)\n",
    "male_RAN, female_RAN = gen_bias(RAN)\n",
    "male_HSR, female_HSR = gen_bias(HSR)\n",
    "male_GP, female_GP = gen_bias(GP)\n",
    "male_GN, female_GN = gen_bias(GN)\n",
    "male_GNGP, female_GNGP = gen_bias(GNGP)\n",
    "male_HD, female_HD = gen_bias(HD)\n",
    "male_DHD, female_DHD = gen_bias(DHD)\n",
    "male_HSRAN, female_HSRAN = gen_bias(HSRAN)"
   ]
  },
  {
   "cell_type": "code",
   "execution_count": 100,
   "metadata": {},
   "outputs": [
    {
     "name": "stdout",
     "output_type": "stream",
     "text": [
      "Ttest_indResult(statistic=263.82095837872487, pvalue=0.0)\n",
      "Ttest_indResult(statistic=240.8155337109325, pvalue=0.0)\n",
      "Ttest_indResult(statistic=265.83194488225377, pvalue=0.0)\n",
      "Ttest_indResult(statistic=246.7650216804221, pvalue=0.0)\n",
      "Ttest_indResult(statistic=268.5414003788801, pvalue=0.0)\n",
      "Ttest_indResult(statistic=40.69132967902309, pvalue=0.0)\n",
      "Ttest_indResult(statistic=251.02321797866847, pvalue=0.0)\n",
      "Ttest_indResult(statistic=269.9394103264517, pvalue=0.0)\n",
      "Ttest_indResult(statistic=268.3811574108329, pvalue=0.0)\n"
     ]
    }
   ],
   "source": [
    "print(stats.ttest_ind(male_bef, female_bef))\n",
    "print(stats.ttest_ind(male_RAN, female_RAN))\n",
    "print(stats.ttest_ind(male_HSR, female_HSR))\n",
    "print(stats.ttest_ind(male_HSRAN, female_HSRAN))\n",
    "print(stats.ttest_ind(male_GP, female_GP))\n",
    "print(stats.ttest_ind(male_HD, female_HD))\n",
    "print(stats.ttest_ind(male_GN, female_GN))\n",
    "print(stats.ttest_ind(male_GNGP, female_GNGP))\n",
    "print(stats.ttest_ind(male_DHD, female_DHD))"
   ]
  }
 ],
 "metadata": {
  "kernelspec": {
   "display_name": "Python 3",
   "language": "python",
   "name": "python3"
  },
  "language_info": {
   "codemirror_mode": {
    "name": "ipython",
    "version": 3
   },
   "file_extension": ".py",
   "mimetype": "text/x-python",
   "name": "python",
   "nbconvert_exporter": "python",
   "pygments_lexer": "ipython3",
   "version": "3.8.5"
  }
 },
 "nbformat": 4,
 "nbformat_minor": 4
}
