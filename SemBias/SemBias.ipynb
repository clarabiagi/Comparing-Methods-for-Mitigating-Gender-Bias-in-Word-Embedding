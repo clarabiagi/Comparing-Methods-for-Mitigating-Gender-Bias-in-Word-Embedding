{
 "cells": [
  {
   "cell_type": "code",
   "execution_count": 1,
   "metadata": {},
   "outputs": [],
   "source": [
    "import codecs\n",
    "import numpy as np\n",
    "from numpy import linalg as LA\n",
    "from sklearn.metrics.pairwise import cosine_similarity\n",
    "\n",
    "def load_embeddings_from_np(filename):\n",
    "    print('loading ...')\n",
    "    with codecs.open(filename + '.vocab', 'r', 'utf-8') as f_embed:\n",
    "        vocab = [line.strip() for line in f_embed]\n",
    "        \n",
    "    w2i = {w: i for i, w in enumerate(vocab)}\n",
    "    wv = np.load(filename + '.wv.npy')\n",
    "\n",
    "    return vocab, wv, w2i\n",
    "\n",
    "def load_dhdglove(path):\n",
    "    print('loading ...')\n",
    "    debiased_embeds = pickle.load(open(path, 'rb'))\n",
    "    wv = []\n",
    "    vocab = []\n",
    "    for w in debiased_embeds:\n",
    "        wv.append(np.array(debiased_embeds[w]))\n",
    "        vocab.append(str(w))\n",
    "        \n",
    "    w2i = {w: i for i, w in enumerate(vocab)}\n",
    "    wv = np.array(wv).astype(float)\n",
    "    print(len(vocab), wv.shape, len(w2i))\n",
    "        \n",
    "    return vocab, wv, w2i \n",
    "\n",
    "def load_wo_normalize(space, filename, vocab, wv, w2i):\n",
    "    if filename[-3:]=='txt':\n",
    "        vocab_muse, wv_muse, w2i_muse = load_embeddings_from_np(filename)\n",
    "    else:\n",
    "        vocab_muse, wv_muse, w2i_muse = load_dhdglove(filename)\n",
    "    vocab[space] = vocab_muse \n",
    "    wv[space] = wv_muse\n",
    "    w2i[space] = w2i_muse\n",
    "    print('done')\n"
   ]
  },
  {
   "cell_type": "code",
   "execution_count": 2,
   "metadata": {},
   "outputs": [
    {
     "name": "stdout",
     "output_type": "stream",
     "text": [
      "loading ...\n",
      "done\n",
      "loading ...\n",
      "done\n"
     ]
    }
   ],
   "source": [
    "vocab = {}\n",
    "wv = {}\n",
    "w2i = {}\n",
    "\n",
    "load_wo_normalize('bef', 'Gender-Biased Word Relation Task/data/embeddings/glove_wiki_vectors.txt', vocab, wv, w2i)\n",
    "load_wo_normalize('aft', 'Gender-Biased Word Relation Task/data/embeddings/vectors_hd.txt', vocab, wv, w2i)"
   ]
  },
  {
   "cell_type": "code",
   "execution_count": 3,
   "metadata": {},
   "outputs": [],
   "source": [
    "orig_glove = dict(zip(vocab['bef'], wv['bef']))\n",
    "post_glove = dict(zip(vocab['aft'], wv['aft']))"
   ]
  },
  {
   "cell_type": "code",
   "execution_count": 4,
   "metadata": {},
   "outputs": [],
   "source": [
    "filename = 'data/SemBias.txt'\n",
    "\n",
    "def read_SemBias(filename):\n",
    "    file_read = open(filename, \"r\", encoding = 'utf8')\n",
    "    \n",
    "    SemBias_list = []\n",
    "    \n",
    "    for line in file_read:\n",
    "        pairs = line.rstrip().split('\\t')\n",
    "        \n",
    "        line_temp = []\n",
    "        for p in pairs:\n",
    "            a, b = p.split(':')\n",
    "            line_temp.append([a,b])\n",
    "        \n",
    "        SemBias_list.append(line_temp)\n",
    "    \n",
    "    return SemBias_list\n",
    "\n",
    "SemBias_task = read_SemBias(filename)"
   ]
  },
  {
   "cell_type": "code",
   "execution_count": 5,
   "metadata": {},
   "outputs": [],
   "source": [
    "def eval_top(task, wordVecModel_str):\n",
    "    wordVecModel = eval(wordVecModel_str)\n",
    "    #vocab = set(list(wordVecModel.keys()))\n",
    "    result_list = []\n",
    "    he_we = wordVecModel['he'].reshape(1,-1)\n",
    "    she_we = wordVecModel['she'].reshape(1,-1)\n",
    "    \n",
    "    for line in task:\n",
    "        temp_score = []\n",
    "        \n",
    "        if len(line) != 4:\n",
    "            print('error')\n",
    "            \n",
    "        for pair in line:\n",
    "            (word_i, word_j) = pair\n",
    "            current_distance = cosine_similarity(he_we - she_we , wordVecModel[word_i].reshape(1,-1) - wordVecModel[word_j].reshape(1,-1) )        \n",
    "            temp_score.append(current_distance)\n",
    "        \n",
    "        result_list.append(temp_score.index(max(temp_score)))\n",
    "        \n",
    "    return result_list\n",
    "\n",
    "xx_orig = eval_top(SemBias_task, 'orig_glove')\n",
    "xx_hs = eval_top(SemBias_task, 'post_glove')"
   ]
  },
  {
   "cell_type": "code",
   "execution_count": 6,
   "metadata": {
    "scrolled": true
   },
   "outputs": [
    {
     "name": "stdout",
     "output_type": "stream",
     "text": [
      "Orig gender-definition:\n",
      "SemBias:  0.8022727272727272 SemBias (subset):  0.575\n",
      "HARD gender-definition:\n",
      "SemBias:  0.8159090909090909 SemBias (subset):  0.525\n"
     ]
    }
   ],
   "source": [
    "list_xx = [xx_orig, xx_hs]\n",
    "\n",
    "print('Orig gender-definition:')\n",
    "print('SemBias: ',end =\" \")\n",
    "print(list_xx[0].count(0)/440,end =\" \")\n",
    "print('SemBias (subset): ',end =\" \")\n",
    "print(list_xx[0][-40:].count(0)/40)\n",
    "      \n",
    "print('HARD gender-definition:')\n",
    "print('SemBias: ',end =\" \")\n",
    "print(list_xx[1].count(0)/440,end =\" \")\n",
    "print('SemBias (subset): ',end =\" \")\n",
    "print(list_xx[1][-40:].count(0)/40)"
   ]
  },
  {
   "cell_type": "code",
   "execution_count": 7,
   "metadata": {},
   "outputs": [
    {
     "name": "stdout",
     "output_type": "stream",
     "text": [
      "Orig gender-stereotype:\n",
      "SemBias:  0.10909090909090909 SemBias (subset):  0.2\n",
      "HARD-GloVe gender-stereotype:\n",
      "SemBias:  0.10681818181818181 SemBias (subset):  0.25\n"
     ]
    }
   ],
   "source": [
    "print('Orig gender-stereotype:')\n",
    "print('SemBias: ',end =\" \")\n",
    "print(list_xx[0].count(3)/440,end =\" \")\n",
    "print('SemBias (subset): ',end =\" \")\n",
    "print(list_xx[0][-40:].count(3)/40)\n",
    "      \n",
    "print('HARD-GloVe gender-stereotype:')\n",
    "print('SemBias: ',end =\" \")\n",
    "print(list_xx[1].count(3)/440,end =\" \")\n",
    "print('SemBias (subset): ',end =\" \")\n",
    "print(list_xx[1][-40:].count(3)/40)"
   ]
  },
  {
   "cell_type": "code",
   "execution_count": 8,
   "metadata": {},
   "outputs": [
    {
     "name": "stdout",
     "output_type": "stream",
     "text": [
      "Orig none:\n",
      "SemBias:  0.08863636363636364 SemBias (subset):  0.225\n",
      "HARD-GloVe none:\n",
      "SemBias:  0.07727272727272727 SemBias (subset):  0.225\n"
     ]
    }
   ],
   "source": [
    "print('Orig none:')\n",
    "print('SemBias: ',end =\" \")\n",
    "print((list_xx[0].count(1)+list_xx[0].count(2))/440,end =\" \")\n",
    "print('SemBias (subset): ',end =\" \")\n",
    "print((list_xx[0][-40:].count(1)+list_xx[0][-40:].count(2))/40)\n",
    "      \n",
    "print('HARD-GloVe none:')\n",
    "print('SemBias: ',end =\" \")\n",
    "print((list_xx[1].count(1)+list_xx[1].count(2))/440,end =\" \")\n",
    "print('SemBias (subset): ',end =\" \")\n",
    "print((list_xx[1][-40:].count(1)+list_xx[1][-40:].count(2))/40)"
   ]
  }
 ],
 "metadata": {
  "kernelspec": {
   "display_name": "Python 3 (ipykernel)",
   "language": "python",
   "name": "python3"
  },
  "language_info": {
   "codemirror_mode": {
    "name": "ipython",
    "version": 3
   },
   "file_extension": ".py",
   "mimetype": "text/x-python",
   "name": "python",
   "nbconvert_exporter": "python",
   "pygments_lexer": "ipython3",
   "version": "3.9.12"
  }
 },
 "nbformat": 4,
 "nbformat_minor": 4
}
